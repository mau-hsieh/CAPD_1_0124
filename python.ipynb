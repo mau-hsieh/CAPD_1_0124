import json


# 增加 CAPD02 ~ CAPD50
for i in range(2, 51):
    username = f"CAPD{i:02d}"
    data["users"].append({
        "username": username,
        "password": username
    })

# 轉換為 JSON 格式
result = json.dumps(data, indent=2, ensure_ascii=False)

# 輸出結果
print(result)
